{
 "cells": [
  {
   "cell_type": "markdown",
   "metadata": {},
   "source": [
    "# MathTool HW4\n",
    "2024-11-7"
   ]
  },
  {
   "cell_type": "markdown",
   "metadata": {},
   "source": [
    "## Question 1"
   ]
  },
  {
   "cell_type": "markdown",
   "metadata": {},
   "source": [
    "### a）"
   ]
  },
  {
   "cell_type": "markdown",
   "metadata": {},
   "source": [
    "We need to calculate the conditional probability 𝑃(Bb∣Child has brown eyes).\n",
    "\n",
    "Given that priors are P(BB)=0.5, P(Bb) = 0.5;\n",
    "We can compute the probability using Bayes' theorem:\n",
    "$$\n",
    "P(\\text{Bb} \\mid \\text{Brown Eyes}) = \\frac{P(\\text{Brown Eyes} \\mid \\text{Bb}) \\cdot P(\\text{Bb})}{P(\\text{Brown Eyes})}\n",
    "$$\n",
    "Where: P(Brown Eyes∣Bb)=0.5 and P(Brown Eyes∣BB)=1.0.\n",
    "\n",
    "For the probabililty of getting the brown eye no matter what, it's P(Brown Eyes)=P(Brown Eyes∣BB)⋅P(BB)+P(Brown Eyes∣Bb)⋅P(Bb)\n",
    "\n"
   ]
  },
  {
   "cell_type": "code",
   "execution_count": 1,
   "metadata": {},
   "outputs": [
    {
     "data": {
      "text/plain": [
       "0.3333333333333333"
      ]
     },
     "execution_count": 1,
     "metadata": {},
     "output_type": "execute_result"
    }
   ],
   "source": [
    "P_BB = 0.5\n",
    "P_Bb = 0.5\n",
    "P_brown_given_BB = 1.0\n",
    "P_brown_given_Bb = 0.5\n",
    "\n",
    "P_brown = (P_brown_given_BB * P_BB) + (P_brown_given_Bb * P_Bb)\n",
    "P_Bb_given_brown = (P_brown_given_Bb * P_Bb) / P_brown\n",
    "\n",
    "P_Bb_given_brown\n"
   ]
  },
  {
   "cell_type": "markdown",
   "metadata": {},
   "source": [
    "### b)"
   ]
  },
  {
   "cell_type": "markdown",
   "metadata": {},
   "source": [
    "Aiming to calculate: P(Bb∣Both children have brown eyes).\n",
    "$$\n",
    "P(\\text{Bb} \\mid \\text{both children brown Eyes}) = \\frac{P(\\text{both children brown Eyes} \\mid \\text{Bb}) \\cdot P(\\text{Bb})}{P(\\text{both children brown Eyes})}\n",
    "$$\n",
    "\n",
    "If mother is BB, then P(Both children brown∣BB)=1.0;\n",
    "\n",
    "If mother is Bb, then P(Both Both children brown∣Bb)=0.5⋅0.5=0.25.\n",
    "\n",
    "Given that priors are P(BB)=0.5, P(Bb) = 0.5;\n",
    "\n",
    "P(Both brown)=P(Both brown∣BB)⋅P(BB)+P(Both brown∣Bb)⋅P(Bb)\n"
   ]
  },
  {
   "cell_type": "code",
   "execution_count": 4,
   "metadata": {},
   "outputs": [
    {
     "data": {
      "text/plain": [
       "0.2"
      ]
     },
     "execution_count": 4,
     "metadata": {},
     "output_type": "execute_result"
    }
   ],
   "source": [
    "P_both_brown_given_BB = 1.0\n",
    "P_both_brown_given_Bb = 0.25\n",
    "\n",
    "P_both_brown = (P_both_brown_given_BB * P_BB) + (P_both_brown_given_Bb * P_Bb)\n",
    "\n",
    "#Bayes' theorem:\n",
    "P_Bb_given_both_brown = (P_both_brown_given_Bb * P_Bb) / P_both_brown\n",
    "\n",
    "P_Bb_given_both_brown\n"
   ]
  },
  {
   "cell_type": "markdown",
   "metadata": {},
   "source": [
    "### c)"
   ]
  },
  {
   "cell_type": "markdown",
   "metadata": {},
   "source": [
    "We want to find: P(Bb∣All N children have brown eyes), which can be expressed as :\n",
    "$$\n",
    "P(\\text{Bb} \\mid \\text{All N children have brown eyes}) = \\frac{P(\\text{All N children have brown eyes} \\mid \\text{Bb}) \\cdot P(\\text{Bb})}{P(\\text{All N children have brown eyes})}\n",
    "$$\n",
    "\n",
    "In this case, P(All N children have brown eyes|BB) = 1; P(All brown∣Bb)=$0.5^N$\n",
    "\n",
    "To use the Law of Total Probability, P(All N children have brown eyes)=P(All N children have brown eyes∣BB)⋅P(BB)+P(All N children have brown eyes∣Bb)⋅P(Bb), which is P(All brown)=(1⋅0.5)+($0.5^N$⋅0.5)=0.5+$0.5^{N+1}$ \n",
    "\n",
    "So the final expression of the probability is:\n",
    "$$\n",
    "P(\\text{Bb} \\mid \\text{All brown}) = \\frac{0.5^{N+1}}{0.5 + 0.5^{N+1}} =\\frac{1}{1 + 2^{N}}\n",
    "$$\n"
   ]
  }
 ],
 "metadata": {
  "kernelspec": {
   "display_name": "Python 3",
   "language": "python",
   "name": "python3"
  },
  "language_info": {
   "codemirror_mode": {
    "name": "ipython",
    "version": 3
   },
   "file_extension": ".py",
   "mimetype": "text/x-python",
   "name": "python",
   "nbconvert_exporter": "python",
   "pygments_lexer": "ipython3",
   "version": "3.13.0"
  }
 },
 "nbformat": 4,
 "nbformat_minor": 2
}
