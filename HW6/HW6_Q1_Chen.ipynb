{
 "cells": [
  {
   "cell_type": "markdown",
   "metadata": {},
   "source": [
    "# MathTool HW6\n",
    "2024-12-11"
   ]
  },
  {
   "cell_type": "markdown",
   "metadata": {},
   "source": [
    "## Question 1\n",
    "\n",
    "### a)"
   ]
  },
  {
   "cell_type": "code",
   "execution_count": 2,
   "metadata": {},
   "outputs": [],
   "source": [
    "import numpy as np\n",
    "from scipy.stats import norm\n",
    "import matplotlib.pyplot as plt"
   ]
  },
  {
   "cell_type": "code",
   "execution_count": null,
   "metadata": {},
   "outputs": [],
   "source": [
    "def nloglik(mu,sigma,lambd,I,T,B):\n",
    "    #mu: mean\n",
    "    #sigma: standard deviation\n",
    "    #lambda: lapse rate\n",
    "    #I: stimulus intensities\n",
    "    #T: trials per intensity\n",
    "    #B: num of correct response\n",
    "\n",
    "    p_correct = lambd / 2 + (1 - lambd) * norm.cdf(I, loc=mu, scale=sigma)\n",
    "    likelihoods = B * np.log(p_correct) + (T - B) * np.log(1 - p_correct)\n",
    "    nll = -np.sum(likelihoods)\n",
    "    return nll"
   ]
  },
  {
   "cell_type": "markdown",
   "metadata": {},
   "source": []
  }
 ],
 "metadata": {
  "kernelspec": {
   "display_name": "Python 3",
   "language": "python",
   "name": "python3"
  },
  "language_info": {
   "codemirror_mode": {
    "name": "ipython",
    "version": 3
   },
   "file_extension": ".py",
   "mimetype": "text/x-python",
   "name": "python",
   "nbconvert_exporter": "python",
   "pygments_lexer": "ipython3",
   "version": "3.13.0"
  }
 },
 "nbformat": 4,
 "nbformat_minor": 2
}
